{
  "nbformat": 4,
  "nbformat_minor": 0,
  "metadata": {
    "kernelspec": {
      "display_name": "Python 3",
      "language": "python",
      "name": "python3"
    },
    "language_info": {
      "codemirror_mode": {
        "name": "ipython",
        "version": 3
      },
      "file_extension": ".py",
      "mimetype": "text/x-python",
      "name": "python",
      "nbconvert_exporter": "python",
      "pygments_lexer": "ipython3",
      "version": "3.8.5"
    },
    "colab": {
      "name": "004 Classifier Training.ipynb",
      "provenance": [],
      "collapsed_sections": [],
      "toc_visible": true
    },
    "accelerator": "GPU"
  },
  "cells": [
    {
      "cell_type": "markdown",
      "metadata": {
        "id": "p0iTJ-58MGRY"
      },
      "source": [
        "# MRI Series 2D Classifier Training\n",
        "\n",
        "*This notebook is based on the MONAI [Medical Image Classification Tutorial with the MedNIST Dataset](https://github.com/Project-MONAI/tutorials/blob/master/2d_classification/mednist_tutorial.ipynb). There are more tutorials in the MOINAI repository released under a [permissive license](https://github.com/Project-MONAI/tutorials/blob/master/LICENSE).*\n",
        "\n",
        "DenseNet (Dense Convolutional Network) is a neural network architecture from 2017 that was jointly invented by Cornwell University, Tsinghua University and Facebook AI Research (FAIR). DenseNet variations are widely accepted and show strong performance in classification tasks.\n",
        "\n",
        "This notebook shows how to train a DenseNet using the dataset that we have stored in our Cloud Storage Bucket."
      ]
    },
    {
      "cell_type": "markdown",
      "metadata": {
        "id": "O37EDM5LwtgH"
      },
      "source": [
        "## Procedure\n",
        "\n",
        "The training procedure is the following:\n",
        "\n",
        "1. Download, unpack and check the dataset\n",
        "2. Split the dataset into training, validation and test data lists\n",
        "3. Initialize custom PyTorch Dataset and a DenseNet model\n",
        "4. Perform model training and validation\n",
        "5. Test the trained model on testing data\n",
        "6. Save the results to a Cloud Storage Bucket"
      ]
    },
    {
      "cell_type": "markdown",
      "metadata": {
        "id": "sOIw8OEQMGRb"
      },
      "source": [
        "### Environvent variables and imports"
      ]
    },
    {
      "cell_type": "code",
      "metadata": {
        "id": "ANLL_lcPOf9i"
      },
      "source": [
        "myProjectID = '%%PUT-YOUR-PROJECT-ID-HERE%%'\n",
        "bucket_name = '%%PUT-YOUR-BUCKET-ID-HERE%%'"
      ],
      "execution_count": null,
      "outputs": []
    },
    {
      "cell_type": "code",
      "metadata": {
        "id": "BHgUO54-OvDj"
      },
      "source": [
        "# Colab specific authentication helpers\n",
        "from google.colab import auth\n",
        "\n",
        "auth.authenticate_user()"
      ],
      "execution_count": null,
      "outputs": []
    },
    {
      "cell_type": "code",
      "metadata": {
        "id": "DFLc_epHMGRb"
      },
      "source": [
        "!python -c \"import monai\" || pip install -q \"monai-weekly[pillow, tqdm]\""
      ],
      "execution_count": null,
      "outputs": []
    },
    {
      "cell_type": "code",
      "metadata": {
        "tags": [],
        "id": "22SZUcJKMGRc",
        "colab": {
          "base_uri": "https://localhost:8080/"
        },
        "outputId": "5f3c7dc3-1a2d-4a59-9f6e-29b3a30a9c0d"
      },
      "source": [
        "import os\n",
        "import shutil\n",
        "import matplotlib.pyplot as plt\n",
        "import PIL\n",
        "import torch\n",
        "import numpy as np\n",
        "from sklearn.metrics import classification_report\n",
        "\n",
        "from monai.apps import download_and_extract\n",
        "from monai.config import print_config\n",
        "from monai.metrics import compute_roc_auc\n",
        "from monai.networks.nets import DenseNet121\n",
        "from monai.transforms import (\n",
        "    Activations,\n",
        "    AsDiscrete,\n",
        "    Compose,\n",
        "    LoadImage,\n",
        "    RandFlip,\n",
        "    RandRotate,\n",
        "    RandZoom,\n",
        "    ScaleIntensity,\n",
        "    ToTensor,\n",
        ")\n",
        "from monai.utils import set_determinism\n",
        "\n",
        "%matplotlib inline\n",
        "\n",
        "print_config()"
      ],
      "execution_count": null,
      "outputs": [
        {
          "output_type": "stream",
          "text": [
            "MONAI version: 0.6.dev2126\n",
            "Numpy version: 1.19.5\n",
            "Pytorch version: 1.9.0+cu102\n",
            "MONAI flags: HAS_EXT = False, USE_COMPILED = False\n",
            "MONAI rev id: 2ad54662de25e9a964c33327f7f2f178655573ef\n",
            "\n",
            "Optional dependencies:\n",
            "Pytorch Ignite version: NOT INSTALLED or UNKNOWN VERSION.\n",
            "Nibabel version: 3.0.2\n",
            "scikit-image version: 0.16.2\n",
            "Pillow version: 7.1.2\n",
            "Tensorboard version: 2.5.0\n",
            "gdown version: 3.6.4\n",
            "TorchVision version: 0.10.0+cu102\n",
            "ITK version: NOT INSTALLED or UNKNOWN VERSION.\n",
            "tqdm version: 4.61.1\n",
            "lmdb version: 0.99\n",
            "psutil version: 5.4.8\n",
            "pandas version: 1.1.5\n",
            "\n",
            "For details about installing the optional dependencies, please visit:\n",
            "    https://docs.monai.io/en/latest/installation.html#installing-the-recommended-dependencies\n",
            "\n"
          ],
          "name": "stdout"
        }
      ]
    },
    {
      "cell_type": "markdown",
      "metadata": {
        "id": "1U-ei429MGRc"
      },
      "source": [
        "### Setup data directory\n"
      ]
    },
    {
      "cell_type": "code",
      "metadata": {
        "tags": [],
        "id": "xFQzwOUZMGRd",
        "colab": {
          "base_uri": "https://localhost:8080/"
        },
        "outputId": "b54f3782-934f-438f-c694-3fdc82af11e4"
      },
      "source": [
        "data_dir = '/tmp/data/'\n",
        "!rm -rf $data_dir && mkdir -p $data_dir\n",
        "print(data_dir)"
      ],
      "execution_count": null,
      "outputs": [
        {
          "output_type": "stream",
          "text": [
            "/tmp/data/\n"
          ],
          "name": "stdout"
        }
      ]
    },
    {
      "cell_type": "markdown",
      "metadata": {
        "id": "QpWfJImVMGRd"
      },
      "source": [
        "### Download dataset"
      ]
    },
    {
      "cell_type": "code",
      "metadata": {
        "tags": [],
        "id": "BHlWgzQ4MGRe",
        "colab": {
          "base_uri": "https://localhost:8080/"
        },
        "outputId": "c977c6c7-0dd9-45b9-d04b-7e5542610f4b"
      },
      "source": [
        "resource = 'gs://pw35-data-001/pw5-gba-tagging-data.zip'\n",
        "!gsutil -u $myProjectID cp $resource $data_dir\n",
        "\n",
        "!unzip -q -o \"$data_dir\"pw5-gba-tagging-data.zip\n",
        "\n",
        "!mv -f images/* $data_dir\n",
        "!rm \"$data_dir\"pw5-gba-tagging-data.zip"
      ],
      "execution_count": null,
      "outputs": [
        {
          "output_type": "stream",
          "text": [
            "Copying gs://pw35-data-001/pw5-gba-tagging-data.zip...\n",
            "- [1 files][ 82.5 MiB/ 82.5 MiB]                                                \n",
            "Operation completed over 1 objects/82.5 MiB.                                     \n"
          ],
          "name": "stdout"
        }
      ]
    },
    {
      "cell_type": "markdown",
      "metadata": {
        "id": "kZsVhGknMGRe"
      },
      "source": [
        "### Set deterministic training for reproducibility"
      ]
    },
    {
      "cell_type": "code",
      "metadata": {
        "id": "mO8bqCoYMGRe"
      },
      "source": [
        "set_determinism(seed=0)"
      ],
      "execution_count": null,
      "outputs": []
    },
    {
      "cell_type": "markdown",
      "metadata": {
        "id": "U5S_OIvQMGRe"
      },
      "source": [
        "### Read image filenames from the dataset folders\n",
        "\n",
        "First of all, check the dataset files and show some statistics.  \n",
        "There are 4 folders in the dataset: \n",
        "\n",
        "- `T2-WEIGHTED_IMAGE_FLAIR`\n",
        "- `T1-WEIGHTED_POST-CONTRAST`\n",
        "- `T1-WEIGHTED_PRE-CONTRAST`\n",
        "- `T2-WEIGHTED_IMAGE`\n",
        "\n",
        "The names of these folders should be used as the labels to train our classification model."
      ]
    },
    {
      "cell_type": "code",
      "metadata": {
        "tags": [],
        "id": "Us_nI7mbMGRe",
        "colab": {
          "base_uri": "https://localhost:8080/"
        },
        "outputId": "c9dfca14-93bc-4678-babf-78ad9b35da59"
      },
      "source": [
        "class_names = sorted(x for x in os.listdir(data_dir)\n",
        "                     if os.path.isdir(os.path.join(data_dir, x)))\n",
        "num_class = len(class_names)\n",
        "image_files = [\n",
        "    [\n",
        "        os.path.join(data_dir, class_names[i], x)\n",
        "        for x in os.listdir(os.path.join(data_dir, class_names[i]))\n",
        "    ]\n",
        "    for i in range(num_class)\n",
        "]\n",
        "num_each = [len(image_files[i]) for i in range(num_class)]\n",
        "image_files_list = []\n",
        "image_class = []\n",
        "for i in range(num_class):\n",
        "    image_files_list.extend(image_files[i])\n",
        "    image_class.extend([i] * num_each[i])\n",
        "num_total = len(image_class)\n",
        "image_width, image_height = PIL.Image.open(image_files_list[0]).size\n",
        "\n",
        "print(f\"Total image count: {num_total}\")\n",
        "print(f\"Image dimensions: {image_width} x {image_height}\")\n",
        "print(f\"Label names: {class_names}\")\n",
        "print(f\"Label counts: {num_each}\")"
      ],
      "execution_count": null,
      "outputs": [
        {
          "output_type": "stream",
          "text": [
            "Total image count: 40000\n",
            "Image dimensions: 64 x 64\n",
            "Label names: ['T1-WEIGHTED_POST-CONTRAST', 'T1-WEIGHTED_PRE-CONTRAST', 'T2-WEIGHTED_IMAGE', 'T2-WEIGHTED_IMAGE_FLAIR']\n",
            "Label counts: [10000, 10000, 10000, 10000]\n"
          ],
          "name": "stdout"
        }
      ]
    },
    {
      "cell_type": "markdown",
      "metadata": {
        "id": "DpBTMJ8DMGRf"
      },
      "source": [
        "### Randomly pick images from the dataset to visualize and check"
      ]
    },
    {
      "cell_type": "code",
      "metadata": {
        "id": "cYVBAjsdMGRf",
        "colab": {
          "base_uri": "https://localhost:8080/",
          "height": 585
        },
        "outputId": "9d406dd8-92c6-4137-93aa-6a50bb09da47"
      },
      "source": [
        "plt.subplots(3, 3, figsize=(8, 8))\n",
        "for i, k in enumerate(np.random.randint(num_total, size=9)):\n",
        "    im = PIL.Image.open(image_files_list[k])\n",
        "    arr = np.array(im)\n",
        "    plt.subplot(3, 3, i + 1)\n",
        "    plt.xlabel(class_names[image_class[k]])\n",
        "    plt.imshow(arr, cmap=\"gray\", vmin=0, vmax=255)\n",
        "plt.tight_layout()\n",
        "plt.show()"
      ],
      "execution_count": null,
      "outputs": [
        {
          "output_type": "display_data",
          "data": {
            "image/png": "[encoded data removed]",
            "text/plain": [
              "<Figure size 576x576 with 9 Axes>"
            ]
          },
          "metadata": {
            "tags": [],
            "needs_background": "light"
          }
        }
      ]
    },
    {
      "cell_type": "markdown",
      "metadata": {
        "id": "inGgREl1MGRg"
      },
      "source": [
        "### Prepare training, validation and test data lists\n",
        "\n",
        "Randomly select 10% of the dataset as validation and 10% as test."
      ]
    },
    {
      "cell_type": "code",
      "metadata": {
        "tags": [],
        "id": "Tktkz1A1MGRg",
        "colab": {
          "base_uri": "https://localhost:8080/"
        },
        "outputId": "27e79c5e-0268-4c77-f6f1-03f25c9ef9d8"
      },
      "source": [
        "val_frac = 0.1\n",
        "test_frac = 0.1\n",
        "length = len(image_files_list)\n",
        "indices = np.arange(length)\n",
        "np.random.shuffle(indices)\n",
        "\n",
        "test_split = int(test_frac * length)\n",
        "val_split = int(val_frac * length) + test_split\n",
        "test_indices = indices[:test_split]\n",
        "val_indices = indices[test_split:val_split]\n",
        "train_indices = indices[val_split:]\n",
        "\n",
        "train_x = [image_files_list[i] for i in train_indices]\n",
        "train_y = [image_class[i] for i in train_indices]\n",
        "val_x = [image_files_list[i] for i in val_indices]\n",
        "val_y = [image_class[i] for i in val_indices]\n",
        "test_x = [image_files_list[i] for i in test_indices]\n",
        "test_y = [image_class[i] for i in test_indices]\n",
        "\n",
        "print(\n",
        "    f\"Training count: {len(train_x)}, Validation count: \"\n",
        "    f\"{len(val_x)}, Test count: {len(test_x)}\")"
      ],
      "execution_count": null,
      "outputs": [
        {
          "output_type": "stream",
          "text": [
            "Training count: 32000, Validation count: 4000, Test count: 4000\n"
          ],
          "name": "stdout"
        }
      ]
    },
    {
      "cell_type": "markdown",
      "metadata": {
        "id": "m25Zyl8jMGRg"
      },
      "source": [
        "### Define MONAI transforms, Dataset and Dataloader to pre-process data"
      ]
    },
    {
      "cell_type": "code",
      "metadata": {
        "id": "NT8igI5aMGRg"
      },
      "source": [
        "train_transforms = Compose(\n",
        "    [\n",
        "        LoadImage(image_only=True),\n",
        "        ScaleIntensity(),\n",
        "        RandRotate(range_x=np.pi / 12, prob=0.5, keep_size=True),\n",
        "        RandFlip(spatial_axis=0, prob=0.5),\n",
        "        RandZoom(min_zoom=0.9, max_zoom=1.1, prob=0.5),\n",
        "        ToTensor(),\n",
        "    ]\n",
        ")\n",
        "\n",
        "val_transforms = Compose(\n",
        "    [LoadImage(image_only=True),\n",
        "     ScaleIntensity(),\n",
        "     ToTensor()])\n",
        "\n",
        "act = Activations(softmax=True)\n",
        "to_onehot = AsDiscrete(to_onehot=True, n_classes=num_class)"
      ],
      "execution_count": null,
      "outputs": []
    },
    {
      "cell_type": "code",
      "metadata": {
        "id": "wVcWfbEEMGRg"
      },
      "source": [
        "class MRISeriesDataset(torch.utils.data.Dataset):\n",
        "    def __init__(self, image_files, labels, transforms):\n",
        "        self.image_files = image_files\n",
        "        self.labels = labels\n",
        "        self.transforms = transforms\n",
        "\n",
        "    def __len__(self):\n",
        "        return len(self.image_files)\n",
        "\n",
        "    def __getitem__(self, index):\n",
        "        tensor, label = self.transforms(self.image_files[index]), self.labels[index]\n",
        "        tensor = tensor[:, :, 0:1]\n",
        "        tensor = tensor.permute(2, 0, 1)\n",
        "        return tensor, label\n",
        "\n",
        "\n",
        "train_ds = MRISeriesDataset(train_x, train_y, train_transforms)\n",
        "train_loader = torch.utils.data.DataLoader(\n",
        "    train_ds, batch_size=300, shuffle=True, num_workers=2)\n",
        "\n",
        "val_ds = MRISeriesDataset(val_x, val_y, val_transforms)\n",
        "val_loader = torch.utils.data.DataLoader(\n",
        "    val_ds, batch_size=300, num_workers=2)\n",
        "\n",
        "test_ds = MRISeriesDataset(test_x, test_y, val_transforms)\n",
        "test_loader = torch.utils.data.DataLoader(\n",
        "    test_ds, batch_size=300, num_workers=2)"
      ],
      "execution_count": null,
      "outputs": []
    },
    {
      "cell_type": "markdown",
      "metadata": {
        "id": "cpGbonwgMGRh"
      },
      "source": [
        "### Define network and optimizer\n",
        "\n",
        "1. Set learning rate for how much the model is updated per batch.\n",
        "2. Set total epoch number, as we have shuffle and random transforms, so the training data of every epoch is different.  \n",
        "DenseNet models can show strong performance if trained for 50-100 epochs. We'll use 70 epochs in this example. \n",
        "3. Use DenseNet from MONAI and move to GPU devide, this DenseNet can support both 2D and 3D classification tasks.\n",
        "4. Use Adam optimizer."
      ]
    },
    {
      "cell_type": "code",
      "metadata": {
        "id": "C3lbrWX7MGRh"
      },
      "source": [
        "device = torch.device(\"cuda\")\n",
        "model = DenseNet121(spatial_dims=2, in_channels=1,\n",
        "                    out_channels=num_class).to(device)\n",
        "loss_function = torch.nn.CrossEntropyLoss()\n",
        "optimizer = torch.optim.Adam(model.parameters(), 1e-5)\n",
        "max_epochs = 70\n",
        "val_interval = 1"
      ],
      "execution_count": null,
      "outputs": []
    },
    {
      "cell_type": "markdown",
      "metadata": {
        "id": "ffeRaSgRMGRh"
      },
      "source": [
        "### Model training\n",
        "\n",
        "Execute a typical PyTorch training that run epoch loop and step loop, and do validation after every epoch.  \n",
        "Will save the model weights to file if got best validation accuracy."
      ]
    },
    {
      "cell_type": "code",
      "metadata": {
        "tags": [],
        "id": "QRlvScQJMGRh",
        "colab": {
          "base_uri": "https://localhost:8080/"
        },
        "outputId": "37e41b1a-fcc6-44aa-dd22-eea0325c1d50"
      },
      "source": [
        "best_metric = -1\n",
        "best_metric_epoch = -1\n",
        "epoch_loss_values = []\n",
        "metric_values = []\n",
        "\n",
        "for epoch in range(max_epochs):\n",
        "    print(\"-\" * 10)\n",
        "    print(f\"epoch {epoch + 1}/{max_epochs}\")\n",
        "    \n",
        "    model.train()\n",
        "    epoch_loss = 0\n",
        "    step = 0\n",
        "    for batch_data in train_loader:\n",
        "        step += 1\n",
        "        inputs, labels = batch_data[0].to(device), batch_data[1].to(device)\n",
        "        optimizer.zero_grad()\n",
        "        outputs = model(inputs)\n",
        "        loss = loss_function(outputs, labels)\n",
        "        loss.backward()\n",
        "        optimizer.step()\n",
        "        epoch_loss += loss.item()\n",
        "        # Uncomment these lines for verbose training output\n",
        "        # print(\n",
        "        #     f\"{step}/{len(train_ds) // train_loader.batch_size}, \"\n",
        "        #     f\"train_loss: {loss.item():.4f}\")\n",
        "        epoch_len = len(train_ds) // train_loader.batch_size\n",
        "    epoch_loss /= step\n",
        "    epoch_loss_values.append(epoch_loss)\n",
        "    print(f\"epoch {epoch + 1} average loss: {epoch_loss:.4f}\")\n",
        "\n",
        "    if (epoch + 1) % val_interval == 0:\n",
        "        model.eval()\n",
        "        with torch.no_grad():\n",
        "            y_pred = torch.tensor([], dtype=torch.float32, device=device)\n",
        "            y = torch.tensor([], dtype=torch.long, device=device)\n",
        "            for val_data in val_loader:\n",
        "                val_images, val_labels = (\n",
        "                    val_data[0].to(device),\n",
        "                    val_data[1].to(device),\n",
        "                )\n",
        "                y_pred = torch.cat([y_pred, model(val_images)], dim=0)\n",
        "                y = torch.cat([y, val_labels], dim=0)\n",
        "            y_onehot = to_onehot(y)\n",
        "            y_pred_act = act(y_pred)\n",
        "            auc_metric = compute_roc_auc(y_pred_act, y_onehot)\n",
        "            del y_pred_act, y_onehot\n",
        "            metric_values.append(auc_metric)\n",
        "            acc_value = torch.eq(y_pred.argmax(dim=1), y)\n",
        "            acc_metric = acc_value.sum().item() / len(acc_value)\n",
        "            if auc_metric > best_metric:\n",
        "                best_metric = auc_metric\n",
        "                best_metric_epoch = epoch + 1\n",
        "                torch.save(model.state_dict(), os.path.join(\n",
        "                    data_dir, \"best_metric_model.pth\"))\n",
        "                print(\"saved new best metric model\")\n",
        "            print(\n",
        "                f\"current epoch: {epoch + 1} current AUC: {auc_metric:.4f}\"\n",
        "                f\" current accuracy: {acc_metric:.4f}\"\n",
        "                f\" best AUC: {best_metric:.4f}\"\n",
        "                f\" at epoch: {best_metric_epoch}\"\n",
        "            )\n",
        "\n",
        "print(\n",
        "    f\"train completed, best_metric: {best_metric:.4f} \"\n",
        "    f\"at epoch: {best_metric_epoch}\")"
      ],
      "execution_count": null,
      "outputs": [
        {
          "output_type": "stream",
          "text": [
            "----------\n",
            "epoch 1/70\n"
          ],
          "name": "stdout"
        },
        {
          "output_type": "stream",
          "text": [
            "/usr/local/lib/python3.7/dist-packages/torch/nn/functional.py:718: UserWarning: Named tensors and all their associated APIs are an experimental feature and subject to change. Please do not use them for anything important until they are released as stable. (Triggered internally at  /pytorch/c10/core/TensorImpl.h:1156.)\n",
            "  return torch.max_pool2d(input, kernel_size, stride, padding, dilation, ceil_mode)\n"
          ],
          "name": "stderr"
        },
        {
          "output_type": "stream",
          "text": [
            "epoch 1 average loss: 1.2734\n",
            "saved new best metric model\n",
            "current epoch: 1 current AUC: 0.7760 current accuracy: 0.5100 best AUC: 0.7760 at epoch: 1\n",
            "----------\n",
            "epoch 2/70\n",
            "epoch 2 average loss: 1.0924\n",
            "saved new best metric model\n",
            "current epoch: 2 current AUC: 0.8243 current accuracy: 0.5660 best AUC: 0.8243 at epoch: 2\n",
            "----------\n",
            "epoch 3/70\n",
            "epoch 3 average loss: 0.9623\n",
            "saved new best metric model\n",
            "current epoch: 3 current AUC: 0.8571 current accuracy: 0.6178 best AUC: 0.8571 at epoch: 3\n",
            "----------\n",
            "epoch 4/70\n",
            "epoch 4 average loss: 0.8694\n",
            "saved new best metric model\n",
            "current epoch: 4 current AUC: 0.8829 current accuracy: 0.6567 best AUC: 0.8829 at epoch: 4\n",
            "----------\n",
            "epoch 5/70\n",
            "epoch 5 average loss: 0.7945\n",
            "saved new best metric model\n",
            "current epoch: 5 current AUC: 0.9014 current accuracy: 0.6970 best AUC: 0.9014 at epoch: 5\n",
            "----------\n",
            "epoch 6/70\n",
            "epoch 6 average loss: 0.7291\n",
            "saved new best metric model\n",
            "current epoch: 6 current AUC: 0.9146 current accuracy: 0.7175 best AUC: 0.9146 at epoch: 6\n",
            "----------\n",
            "epoch 7/70\n",
            "epoch 7 average loss: 0.6741\n",
            "saved new best metric model\n",
            "current epoch: 7 current AUC: 0.9257 current accuracy: 0.7372 best AUC: 0.9257 at epoch: 7\n",
            "----------\n",
            "epoch 8/70\n",
            "epoch 8 average loss: 0.6205\n",
            "saved new best metric model\n",
            "current epoch: 8 current AUC: 0.9339 current accuracy: 0.7550 best AUC: 0.9339 at epoch: 8\n",
            "----------\n",
            "epoch 9/70\n",
            "epoch 9 average loss: 0.5756\n",
            "saved new best metric model\n",
            "current epoch: 9 current AUC: 0.9417 current accuracy: 0.7748 best AUC: 0.9417 at epoch: 9\n",
            "----------\n",
            "epoch 10/70\n",
            "epoch 10 average loss: 0.5378\n",
            "saved new best metric model\n",
            "current epoch: 10 current AUC: 0.9470 current accuracy: 0.7890 best AUC: 0.9470 at epoch: 10\n",
            "----------\n",
            "epoch 11/70\n",
            "epoch 11 average loss: 0.5042\n",
            "saved new best metric model\n",
            "current epoch: 11 current AUC: 0.9509 current accuracy: 0.7977 best AUC: 0.9509 at epoch: 11\n",
            "----------\n",
            "epoch 12/70\n",
            "epoch 12 average loss: 0.4715\n",
            "saved new best metric model\n",
            "current epoch: 12 current AUC: 0.9551 current accuracy: 0.8005 best AUC: 0.9551 at epoch: 12\n",
            "----------\n",
            "epoch 13/70\n",
            "epoch 13 average loss: 0.4515\n",
            "saved new best metric model\n",
            "current epoch: 13 current AUC: 0.9579 current accuracy: 0.8130 best AUC: 0.9579 at epoch: 13\n",
            "----------\n",
            "epoch 14/70\n",
            "epoch 14 average loss: 0.4231\n",
            "saved new best metric model\n",
            "current epoch: 14 current AUC: 0.9607 current accuracy: 0.8217 best AUC: 0.9607 at epoch: 14\n",
            "----------\n",
            "epoch 15/70\n",
            "epoch 15 average loss: 0.3994\n",
            "saved new best metric model\n",
            "current epoch: 15 current AUC: 0.9622 current accuracy: 0.8180 best AUC: 0.9622 at epoch: 15\n",
            "----------\n",
            "epoch 16/70\n",
            "epoch 16 average loss: 0.3804\n",
            "saved new best metric model\n",
            "current epoch: 16 current AUC: 0.9640 current accuracy: 0.8270 best AUC: 0.9640 at epoch: 16\n",
            "----------\n",
            "epoch 17/70\n",
            "epoch 17 average loss: 0.3602\n",
            "saved new best metric model\n",
            "current epoch: 17 current AUC: 0.9663 current accuracy: 0.8337 best AUC: 0.9663 at epoch: 17\n",
            "----------\n",
            "epoch 18/70\n",
            "epoch 18 average loss: 0.3428\n",
            "saved new best metric model\n",
            "current epoch: 18 current AUC: 0.9674 current accuracy: 0.8367 best AUC: 0.9674 at epoch: 18\n",
            "----------\n",
            "epoch 19/70\n",
            "epoch 19 average loss: 0.3295\n",
            "saved new best metric model\n",
            "current epoch: 19 current AUC: 0.9681 current accuracy: 0.8363 best AUC: 0.9681 at epoch: 19\n",
            "----------\n",
            "epoch 20/70\n",
            "epoch 20 average loss: 0.3126\n",
            "saved new best metric model\n",
            "current epoch: 20 current AUC: 0.9691 current accuracy: 0.8423 best AUC: 0.9691 at epoch: 20\n",
            "----------\n",
            "epoch 21/70\n",
            "epoch 21 average loss: 0.2999\n",
            "saved new best metric model\n",
            "current epoch: 21 current AUC: 0.9707 current accuracy: 0.8405 best AUC: 0.9707 at epoch: 21\n",
            "----------\n",
            "epoch 22/70\n",
            "epoch 22 average loss: 0.2868\n",
            "saved new best metric model\n",
            "current epoch: 22 current AUC: 0.9721 current accuracy: 0.8468 best AUC: 0.9721 at epoch: 22\n",
            "----------\n",
            "epoch 23/70\n",
            "epoch 23 average loss: 0.2748\n",
            "current epoch: 23 current AUC: 0.9718 current accuracy: 0.8455 best AUC: 0.9721 at epoch: 22\n",
            "----------\n",
            "epoch 24/70\n",
            "epoch 24 average loss: 0.2590\n",
            "saved new best metric model\n",
            "current epoch: 24 current AUC: 0.9729 current accuracy: 0.8520 best AUC: 0.9729 at epoch: 24\n",
            "----------\n",
            "epoch 25/70\n",
            "epoch 25 average loss: 0.2479\n",
            "saved new best metric model\n",
            "current epoch: 25 current AUC: 0.9740 current accuracy: 0.8585 best AUC: 0.9740 at epoch: 25\n",
            "----------\n",
            "epoch 26/70\n",
            "epoch 26 average loss: 0.2398\n",
            "saved new best metric model\n",
            "current epoch: 26 current AUC: 0.9750 current accuracy: 0.8552 best AUC: 0.9750 at epoch: 26\n",
            "----------\n",
            "epoch 27/70\n",
            "epoch 27 average loss: 0.2288\n",
            "saved new best metric model\n",
            "current epoch: 27 current AUC: 0.9751 current accuracy: 0.8578 best AUC: 0.9751 at epoch: 27\n",
            "----------\n",
            "epoch 28/70\n",
            "epoch 28 average loss: 0.2199\n",
            "saved new best metric model\n",
            "current epoch: 28 current AUC: 0.9760 current accuracy: 0.8600 best AUC: 0.9760 at epoch: 28\n",
            "----------\n",
            "epoch 29/70\n",
            "epoch 29 average loss: 0.2118\n",
            "saved new best metric model\n",
            "current epoch: 29 current AUC: 0.9764 current accuracy: 0.8615 best AUC: 0.9764 at epoch: 29\n",
            "----------\n",
            "epoch 30/70\n",
            "epoch 30 average loss: 0.2010\n",
            "current epoch: 30 current AUC: 0.9755 current accuracy: 0.8620 best AUC: 0.9764 at epoch: 29\n",
            "----------\n",
            "epoch 31/70\n",
            "epoch 31 average loss: 0.1975\n",
            "saved new best metric model\n",
            "current epoch: 31 current AUC: 0.9765 current accuracy: 0.8660 best AUC: 0.9765 at epoch: 31\n",
            "----------\n",
            "epoch 32/70\n",
            "epoch 32 average loss: 0.1879\n",
            "saved new best metric model\n",
            "current epoch: 32 current AUC: 0.9766 current accuracy: 0.8658 best AUC: 0.9766 at epoch: 32\n",
            "----------\n",
            "epoch 33/70\n",
            "epoch 33 average loss: 0.1788\n",
            "saved new best metric model\n",
            "current epoch: 33 current AUC: 0.9774 current accuracy: 0.8692 best AUC: 0.9774 at epoch: 33\n",
            "----------\n",
            "epoch 34/70\n",
            "epoch 34 average loss: 0.1759\n",
            "saved new best metric model\n",
            "current epoch: 34 current AUC: 0.9779 current accuracy: 0.8678 best AUC: 0.9779 at epoch: 34\n",
            "----------\n",
            "epoch 35/70\n",
            "epoch 35 average loss: 0.1694\n",
            "saved new best metric model\n",
            "current epoch: 35 current AUC: 0.9784 current accuracy: 0.8735 best AUC: 0.9784 at epoch: 35\n",
            "----------\n",
            "epoch 36/70\n",
            "epoch 36 average loss: 0.1621\n",
            "saved new best metric model\n",
            "current epoch: 36 current AUC: 0.9786 current accuracy: 0.8740 best AUC: 0.9786 at epoch: 36\n",
            "----------\n",
            "epoch 37/70\n",
            "epoch 37 average loss: 0.1549\n",
            "saved new best metric model\n",
            "current epoch: 37 current AUC: 0.9786 current accuracy: 0.8710 best AUC: 0.9786 at epoch: 37\n",
            "----------\n",
            "epoch 38/70\n",
            "epoch 38 average loss: 0.1517\n",
            "saved new best metric model\n",
            "current epoch: 38 current AUC: 0.9788 current accuracy: 0.8755 best AUC: 0.9788 at epoch: 38\n",
            "----------\n",
            "epoch 39/70\n",
            "epoch 39 average loss: 0.1447\n",
            "current epoch: 39 current AUC: 0.9782 current accuracy: 0.8722 best AUC: 0.9788 at epoch: 38\n",
            "----------\n",
            "epoch 40/70\n",
            "epoch 40 average loss: 0.1421\n",
            "saved new best metric model\n",
            "current epoch: 40 current AUC: 0.9792 current accuracy: 0.8745 best AUC: 0.9792 at epoch: 40\n",
            "----------\n",
            "epoch 41/70\n",
            "epoch 41 average loss: 0.1368\n",
            "saved new best metric model\n",
            "current epoch: 41 current AUC: 0.9793 current accuracy: 0.8742 best AUC: 0.9793 at epoch: 41\n",
            "----------\n",
            "epoch 42/70\n",
            "epoch 42 average loss: 0.1325\n",
            "current epoch: 42 current AUC: 0.9792 current accuracy: 0.8738 best AUC: 0.9793 at epoch: 41\n",
            "----------\n",
            "epoch 43/70\n",
            "epoch 43 average loss: 0.1235\n",
            "current epoch: 43 current AUC: 0.9789 current accuracy: 0.8725 best AUC: 0.9793 at epoch: 41\n",
            "----------\n",
            "epoch 44/70\n",
            "epoch 44 average loss: 0.1196\n",
            "saved new best metric model\n",
            "current epoch: 44 current AUC: 0.9803 current accuracy: 0.8768 best AUC: 0.9803 at epoch: 44\n",
            "----------\n",
            "epoch 45/70\n",
            "epoch 45 average loss: 0.1161\n",
            "saved new best metric model\n",
            "current epoch: 45 current AUC: 0.9803 current accuracy: 0.8748 best AUC: 0.9803 at epoch: 45\n",
            "----------\n",
            "epoch 46/70\n",
            "epoch 46 average loss: 0.1132\n",
            "current epoch: 46 current AUC: 0.9798 current accuracy: 0.8755 best AUC: 0.9803 at epoch: 45\n",
            "----------\n",
            "epoch 47/70\n",
            "epoch 47 average loss: 0.1139\n",
            "saved new best metric model\n",
            "current epoch: 47 current AUC: 0.9808 current accuracy: 0.8798 best AUC: 0.9808 at epoch: 47\n",
            "----------\n",
            "epoch 48/70\n",
            "epoch 48 average loss: 0.1063\n",
            "current epoch: 48 current AUC: 0.9803 current accuracy: 0.8765 best AUC: 0.9808 at epoch: 47\n",
            "----------\n",
            "epoch 49/70\n",
            "epoch 49 average loss: 0.1031\n",
            "current epoch: 49 current AUC: 0.9806 current accuracy: 0.8802 best AUC: 0.9808 at epoch: 47\n",
            "----------\n",
            "epoch 50/70\n",
            "epoch 50 average loss: 0.1027\n",
            "current epoch: 50 current AUC: 0.9802 current accuracy: 0.8805 best AUC: 0.9808 at epoch: 47\n",
            "----------\n",
            "epoch 51/70\n",
            "epoch 51 average loss: 0.0989\n",
            "current epoch: 51 current AUC: 0.9800 current accuracy: 0.8775 best AUC: 0.9808 at epoch: 47\n",
            "----------\n",
            "epoch 52/70\n",
            "epoch 52 average loss: 0.0970\n",
            "saved new best metric model\n",
            "current epoch: 52 current AUC: 0.9810 current accuracy: 0.8785 best AUC: 0.9810 at epoch: 52\n",
            "----------\n",
            "epoch 53/70\n",
            "epoch 53 average loss: 0.0937\n",
            "current epoch: 53 current AUC: 0.9802 current accuracy: 0.8772 best AUC: 0.9810 at epoch: 52\n",
            "----------\n",
            "epoch 54/70\n",
            "epoch 54 average loss: 0.0921\n",
            "current epoch: 54 current AUC: 0.9806 current accuracy: 0.8780 best AUC: 0.9810 at epoch: 52\n",
            "----------\n",
            "epoch 55/70\n",
            "epoch 55 average loss: 0.0866\n",
            "saved new best metric model\n",
            "current epoch: 55 current AUC: 0.9813 current accuracy: 0.8808 best AUC: 0.9813 at epoch: 55\n",
            "----------\n",
            "epoch 56/70\n",
            "epoch 56 average loss: 0.0861\n",
            "saved new best metric model\n",
            "current epoch: 56 current AUC: 0.9814 current accuracy: 0.8820 best AUC: 0.9814 at epoch: 56\n",
            "----------\n",
            "epoch 57/70\n",
            "epoch 57 average loss: 0.0843\n",
            "current epoch: 57 current AUC: 0.9811 current accuracy: 0.8848 best AUC: 0.9814 at epoch: 56\n",
            "----------\n",
            "epoch 58/70\n",
            "epoch 58 average loss: 0.0803\n",
            "current epoch: 58 current AUC: 0.9810 current accuracy: 0.8812 best AUC: 0.9814 at epoch: 56\n",
            "----------\n",
            "epoch 59/70\n",
            "epoch 59 average loss: 0.0810\n",
            "current epoch: 59 current AUC: 0.9812 current accuracy: 0.8820 best AUC: 0.9814 at epoch: 56\n",
            "----------\n",
            "epoch 60/70\n",
            "epoch 60 average loss: 0.0767\n",
            "current epoch: 60 current AUC: 0.9811 current accuracy: 0.8840 best AUC: 0.9814 at epoch: 56\n",
            "----------\n",
            "epoch 61/70\n",
            "epoch 61 average loss: 0.0775\n",
            "saved new best metric model\n",
            "current epoch: 61 current AUC: 0.9817 current accuracy: 0.8850 best AUC: 0.9817 at epoch: 61\n",
            "----------\n",
            "epoch 62/70\n",
            "epoch 62 average loss: 0.0729\n",
            "current epoch: 62 current AUC: 0.9808 current accuracy: 0.8805 best AUC: 0.9817 at epoch: 61\n",
            "----------\n",
            "epoch 63/70\n",
            "epoch 63 average loss: 0.0739\n",
            "saved new best metric model\n",
            "current epoch: 63 current AUC: 0.9822 current accuracy: 0.8855 best AUC: 0.9822 at epoch: 63\n",
            "----------\n",
            "epoch 64/70\n",
            "epoch 64 average loss: 0.0688\n",
            "current epoch: 64 current AUC: 0.9821 current accuracy: 0.8870 best AUC: 0.9822 at epoch: 63\n",
            "----------\n",
            "epoch 65/70\n",
            "epoch 65 average loss: 0.0681\n",
            "saved new best metric model\n",
            "current epoch: 65 current AUC: 0.9823 current accuracy: 0.8905 best AUC: 0.9823 at epoch: 65\n",
            "----------\n",
            "epoch 66/70\n",
            "epoch 66 average loss: 0.0699\n",
            "current epoch: 66 current AUC: 0.9820 current accuracy: 0.8868 best AUC: 0.9823 at epoch: 65\n",
            "----------\n",
            "epoch 67/70\n",
            "epoch 67 average loss: 0.0662\n",
            "current epoch: 67 current AUC: 0.9820 current accuracy: 0.8870 best AUC: 0.9823 at epoch: 65\n",
            "----------\n",
            "epoch 68/70\n",
            "epoch 68 average loss: 0.0659\n",
            "saved new best metric model\n",
            "current epoch: 68 current AUC: 0.9829 current accuracy: 0.8882 best AUC: 0.9829 at epoch: 68\n",
            "----------\n",
            "epoch 69/70\n",
            "epoch 69 average loss: 0.0607\n",
            "current epoch: 69 current AUC: 0.9828 current accuracy: 0.8888 best AUC: 0.9829 at epoch: 68\n",
            "----------\n",
            "epoch 70/70\n",
            "epoch 70 average loss: 0.0602\n",
            "current epoch: 70 current AUC: 0.9827 current accuracy: 0.8888 best AUC: 0.9829 at epoch: 68\n",
            "train completed, best_metric: 0.9829 at epoch: 68\n"
          ],
          "name": "stdout"
        }
      ]
    },
    {
      "cell_type": "markdown",
      "metadata": {
        "id": "wG9SjepHMGRi"
      },
      "source": [
        "### Plot the loss and metric"
      ]
    },
    {
      "cell_type": "code",
      "metadata": {
        "id": "Uto-XNp5MGRi",
        "colab": {
          "base_uri": "https://localhost:8080/",
          "height": 404
        },
        "outputId": "449c90e2-3cf5-4679-e529-34722b749c82"
      },
      "source": [
        "plt.figure(\"train\", (12, 6))\n",
        "plt.subplot(1, 2, 1)\n",
        "plt.title(\"Epoch Average Loss\")\n",
        "x = [i + 1 for i in range(len(epoch_loss_values))]\n",
        "y = epoch_loss_values\n",
        "plt.xlabel(\"epoch\")\n",
        "plt.plot(x, y)\n",
        "plt.subplot(1, 2, 2)\n",
        "plt.title(\"Val AUC\")\n",
        "x = [val_interval * (i + 1) for i in range(len(metric_values))]\n",
        "y = metric_values\n",
        "plt.xlabel(\"epoch\")\n",
        "plt.plot(x, y)\n",
        "plt.show()"
      ],
      "execution_count": null,
      "outputs": [
        {
          "output_type": "display_data",
          "data": {
            "image/png": "[encoded data removed]",
            "text/plain": [
              "<Figure size 864x432 with 2 Axes>"
            ]
          },
          "metadata": {
            "tags": [],
            "needs_background": "light"
          }
        }
      ]
    },
    {
      "cell_type": "markdown",
      "metadata": {
        "id": "ZnNPgmcdMGRi"
      },
      "source": [
        "### Evaluate the model on test dataset\n",
        "\n",
        "After training and validation, we already got the best model on validation test.  \n",
        "We need to evaluate the model on test dataset to check whether it's robust and not over-fitting.  \n",
        "We'll use these predictions to generate a classification report."
      ]
    },
    {
      "cell_type": "code",
      "metadata": {
        "id": "wGmjcJnIMGRi"
      },
      "source": [
        "model.load_state_dict(torch.load(\n",
        "    os.path.join(data_dir, \"best_metric_model.pth\")))\n",
        "model.eval()\n",
        "y_true = []\n",
        "y_pred = []\n",
        "with torch.no_grad():\n",
        "    for test_data in test_loader:\n",
        "        test_images, test_labels = (\n",
        "            test_data[0].to(device),\n",
        "            test_data[1].to(device),\n",
        "        )\n",
        "        pred = model(test_images).argmax(dim=1)\n",
        "        for i in range(len(pred)):\n",
        "            y_true.append(test_labels[i].item())\n",
        "            y_pred.append(pred[i].item())"
      ],
      "execution_count": null,
      "outputs": []
    },
    {
      "cell_type": "code",
      "metadata": {
        "tags": [],
        "id": "BRk23GgqMGRi",
        "colab": {
          "base_uri": "https://localhost:8080/"
        },
        "outputId": "2378c400-e0a0-458e-e013-08e397a7334b"
      },
      "source": [
        "print(classification_report(\n",
        "    y_true, y_pred, target_names=class_names, digits=4))"
      ],
      "execution_count": null,
      "outputs": [
        {
          "output_type": "stream",
          "text": [
            "                           precision    recall  f1-score   support\n",
            "\n",
            "T1-WEIGHTED_POST-CONTRAST     0.9044    0.9062    0.9053       981\n",
            " T1-WEIGHTED_PRE-CONTRAST     0.8784    0.8749    0.8766       991\n",
            "        T2-WEIGHTED_IMAGE     0.9236    0.9090    0.9163      1011\n",
            "  T2-WEIGHTED_IMAGE_FLAIR     0.9169    0.9331    0.9250      1017\n",
            "\n",
            "                 accuracy                         0.9060      4000\n",
            "                macro avg     0.9058    0.9058    0.9058      4000\n",
            "             weighted avg     0.9060    0.9060    0.9060      4000\n",
            "\n"
          ],
          "name": "stdout"
        }
      ]
    },
    {
      "cell_type": "markdown",
      "metadata": {
        "id": "Opl_HyHEMGRj"
      },
      "source": [
        "## Upload the model to GCS"
      ]
    },
    {
      "cell_type": "code",
      "metadata": {
        "colab": {
          "base_uri": "https://localhost:8080/"
        },
        "id": "VfxIGBZooPg5",
        "outputId": "49f32ccc-861a-49f7-a42c-84c2f3bcf1ed"
      },
      "source": [
        "!gsutil -u $myProjectID cp /tmp/data/best_metric_model.pth gs://$bucket_name/"
      ],
      "execution_count": null,
      "outputs": [
        {
          "output_type": "stream",
          "text": [
            "Copying file:///tmp/data/best_metric_model.pth [Content-Type=application/octet-stream]...\n",
            "\\\n",
            "Operation completed over 1 objects/27.1 MiB.                                     \n"
          ],
          "name": "stdout"
        }
      ]
    }
  ]
}