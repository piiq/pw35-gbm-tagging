{
  "nbformat": 4,
  "nbformat_minor": 0,
  "metadata": {
    "colab": {
      "name": "002 Data Sampling.ipynb",
      "provenance": [],
      "collapsed_sections": [],
      "toc_visible": true
    },
    "kernelspec": {
      "name": "python3",
      "display_name": "Python 3"
    },
    "language_info": {
      "name": "python"
    }
  },
  "cells": [
    {
      "cell_type": "markdown",
      "metadata": {
        "id": "9xxXbmfniNeC"
      },
      "source": [
        "# IDC data sampling\n",
        "\n",
        "In this notebook we sample the data hosted by IDC based on the matching reference data.\n",
        "\n",
        "We then save the metadata of the sampe into a csv that is uploaded to a Google Cloud Storage Bucket for reuse during later steps."
      ]
    },
    {
      "cell_type": "markdown",
      "metadata": {
        "id": "ucZW7O2WrMsB"
      },
      "source": [
        "### Environvent variables and imports"
      ]
    },
    {
      "cell_type": "code",
      "metadata": {
        "id": "3cBAo7PuesuU"
      },
      "source": [
        "myProjectID = '%%PUT-YOUR-PROJECT-ID-HERE%%'\n",
        "bucket_name = '%%PUT-YOUR-BUCKET-ID-HERE%%'"
      ],
      "execution_count": null,
      "outputs": []
    },
    {
      "cell_type": "code",
      "metadata": {
        "id": "OHig2E9Ae30m"
      },
      "source": [
        "# Colab specific authentication helpers\n",
        "from google.colab import auth\n",
        "\n",
        "# Other imports\n",
        "import pandas as pd"
      ],
      "execution_count": null,
      "outputs": []
    },
    {
      "cell_type": "code",
      "metadata": {
        "id": "uf2-P_N6fNms"
      },
      "source": [
        "auth.authenticate_user()"
      ],
      "execution_count": null,
      "outputs": []
    },
    {
      "cell_type": "markdown",
      "metadata": {
        "id": "wNLWG5ffrOPH"
      },
      "source": [
        "## Query the BQ tables\n",
        "\n",
        "Queries that fetch the matched data we're interested in can be executed from the Colab notebook using the `%%bigquery` magics function.\n",
        "\n",
        "If this operation is done from a python script a BQ client should be instantiated. Please refer to the [client library documentation](https://cloud.google.com/bigquery/docs/bigquery-storage-python-pandas) for specs and examples."
      ]
    },
    {
      "cell_type": "code",
      "metadata": {
        "id": "vpNjamFlfVgP"
      },
      "source": [
        "%%bigquery --project=$myProjectID cohort_df\n",
        "\n",
        "WITH\n",
        "  reference_data AS (\n",
        "  SELECT\n",
        "    PV_MRI_assay,\n",
        "    SPLIT(Assay_Name, '/')[OFFSET(1)] AS study_id,\n",
        "    SPLIT(Assay_Name, '/')[OFFSET(2)] AS series_id,\n",
        "  FROM\n",
        "    `idc-external-007.ReferenceData.ReferenceDataTable`),\n",
        "  idc_data AS (\n",
        "  SELECT\n",
        "    StudyInstanceUID,\n",
        "    SeriesInstanceUID,\n",
        "    gcs_url\n",
        "  FROM\n",
        "    `canceridc-data.idc_v2.dicom_all`)\n",
        "SELECT\n",
        "  PV_MRI_assay,\n",
        "  study_id,\n",
        "  series_id,\n",
        "  gcs_url\n",
        "FROM\n",
        "  reference_data\n",
        "INNER JOIN\n",
        "  idc_data\n",
        "ON\n",
        "  idc_data.SeriesInstanceUID = reference_data.series_id\n",
        "ORDER BY\n",
        "  rand()\n",
        "LIMIT\n",
        "  100000"
      ],
      "execution_count": null,
      "outputs": []
    },
    {
      "cell_type": "code",
      "metadata": {
        "colab": {
          "base_uri": "https://localhost:8080/",
          "height": 589
        },
        "id": "ddB5cBiGf0rE",
        "outputId": "e5920dbb-8843-4742-c0ee-ff617d6e4d49"
      },
      "source": [
        "cohort_df"
      ],
      "execution_count": null,
      "outputs": [
        {
          "output_type": "execute_result",
          "data": {
            "text/html": [
              "<div>\n",
              "<style scoped>\n",
              "    .dataframe tbody tr th:only-of-type {\n",
              "        vertical-align: middle;\n",
              "    }\n",
              "\n",
              "    .dataframe tbody tr th {\n",
              "        vertical-align: top;\n",
              "    }\n",
              "\n",
              "    .dataframe thead th {\n",
              "        text-align: right;\n",
              "    }\n",
              "</style>\n",
              "<table border=\"1\" class=\"dataframe\">\n",
              "  <thead>\n",
              "    <tr style=\"text-align: right;\">\n",
              "      <th></th>\n",
              "      <th>PV_MRI_assay</th>\n",
              "      <th>study_id</th>\n",
              "      <th>series_id</th>\n",
              "      <th>gcs_url</th>\n",
              "    </tr>\n",
              "  </thead>\n",
              "  <tbody>\n",
              "    <tr>\n",
              "      <th>0</th>\n",
              "      <td>T1-weighted pre-contrast</td>\n",
              "      <td>1.3.6.1.4.1.14519.5.2.1.5826.4001.113291808789...</td>\n",
              "      <td>1.3.6.1.4.1.14519.5.2.1.5826.4001.171072817207...</td>\n",
              "      <td>gs://idc-open/71bf09c0-d238-4be6-b102-8c98c65a...</td>\n",
              "    </tr>\n",
              "    <tr>\n",
              "      <th>1</th>\n",
              "      <td>T1-weighted post-contrast</td>\n",
              "      <td>1.3.6.1.4.1.14519.5.2.1.2531.4003.112684169989...</td>\n",
              "      <td>1.3.6.1.4.1.14519.5.2.1.2531.4003.314673445079...</td>\n",
              "      <td>gs://idc-open/f839168c-281d-48f3-b1bc-88025c3c...</td>\n",
              "    </tr>\n",
              "    <tr>\n",
              "      <th>2</th>\n",
              "      <td>T1-weighted pre-contrast</td>\n",
              "      <td>1.3.6.1.4.1.14519.5.2.1.4591.4001.278928118420...</td>\n",
              "      <td>1.3.6.1.4.1.14519.5.2.1.4591.4001.316434438257...</td>\n",
              "      <td>gs://idc-open/07862c91-5f99-45e3-a44a-daaa8ceb...</td>\n",
              "    </tr>\n",
              "    <tr>\n",
              "      <th>3</th>\n",
              "      <td>T1-weighted pre-contrast</td>\n",
              "      <td>1.3.6.1.4.1.14519.5.2.1.2531.4003.176367534254...</td>\n",
              "      <td>1.3.6.1.4.1.14519.5.2.1.2531.4003.925945533711...</td>\n",
              "      <td>gs://idc-open/78320abb-bc08-4e95-964f-420c7c95...</td>\n",
              "    </tr>\n",
              "    <tr>\n",
              "      <th>4</th>\n",
              "      <td>T1-weighted post-contrast</td>\n",
              "      <td>1.3.6.1.4.1.14519.5.2.1.4591.4001.278928118420...</td>\n",
              "      <td>1.3.6.1.4.1.14519.5.2.1.4591.4001.170539642438...</td>\n",
              "      <td>gs://idc-open/125f6019-9888-4de4-ad41-258d9c17...</td>\n",
              "    </tr>\n",
              "    <tr>\n",
              "      <th>...</th>\n",
              "      <td>...</td>\n",
              "      <td>...</td>\n",
              "      <td>...</td>\n",
              "      <td>...</td>\n",
              "    </tr>\n",
              "    <tr>\n",
              "      <th>55920</th>\n",
              "      <td>T1-weighted post-contrast</td>\n",
              "      <td>1.3.6.1.4.1.14519.5.2.1.2531.4003.231610681115...</td>\n",
              "      <td>1.3.6.1.4.1.14519.5.2.1.2531.4003.324452218716...</td>\n",
              "      <td>gs://idc-open/909ea8b8-4b49-4a41-bac2-e9543bfa...</td>\n",
              "    </tr>\n",
              "    <tr>\n",
              "      <th>55921</th>\n",
              "      <td>T2-weighted image</td>\n",
              "      <td>1.3.6.1.4.1.14519.5.2.1.4591.4003.425990241084...</td>\n",
              "      <td>1.3.6.1.4.1.14519.5.2.1.4591.4003.796723886140...</td>\n",
              "      <td>gs://idc-open/87d4ae5c-90b2-44fd-9ac8-afbec5c5...</td>\n",
              "    </tr>\n",
              "    <tr>\n",
              "      <th>55922</th>\n",
              "      <td>T1-weighted post-contrast</td>\n",
              "      <td>1.3.6.1.4.1.14519.5.2.1.7695.4001.912696403696...</td>\n",
              "      <td>1.3.6.1.4.1.14519.5.2.1.7695.4001.220439982391...</td>\n",
              "      <td>gs://idc-open/6caab1d3-0ae3-458c-8bb2-5ad76d14...</td>\n",
              "    </tr>\n",
              "    <tr>\n",
              "      <th>55923</th>\n",
              "      <td>T1-weighted pre-contrast</td>\n",
              "      <td>1.3.6.1.4.1.14519.5.2.1.5826.4001.194554107490...</td>\n",
              "      <td>1.3.6.1.4.1.14519.5.2.1.5826.4001.555701715534...</td>\n",
              "      <td>gs://idc-open/ab59234c-909d-4e01-b271-85bb428a...</td>\n",
              "    </tr>\n",
              "    <tr>\n",
              "      <th>55924</th>\n",
              "      <td>T2-weighted image flair</td>\n",
              "      <td>1.3.6.1.4.1.14519.5.2.1.4591.4001.278844795194...</td>\n",
              "      <td>1.3.6.1.4.1.14519.5.2.1.4591.4001.598245930322...</td>\n",
              "      <td>gs://idc-open/d2c7e4c0-2122-4062-9e1d-f9990233...</td>\n",
              "    </tr>\n",
              "  </tbody>\n",
              "</table>\n",
              "<p>55925 rows × 4 columns</p>\n",
              "</div>"
            ],
            "text/plain": [
              "                    PV_MRI_assay  ...                                            gcs_url\n",
              "0       T1-weighted pre-contrast  ...  gs://idc-open/71bf09c0-d238-4be6-b102-8c98c65a...\n",
              "1      T1-weighted post-contrast  ...  gs://idc-open/f839168c-281d-48f3-b1bc-88025c3c...\n",
              "2       T1-weighted pre-contrast  ...  gs://idc-open/07862c91-5f99-45e3-a44a-daaa8ceb...\n",
              "3       T1-weighted pre-contrast  ...  gs://idc-open/78320abb-bc08-4e95-964f-420c7c95...\n",
              "4      T1-weighted post-contrast  ...  gs://idc-open/125f6019-9888-4de4-ad41-258d9c17...\n",
              "...                          ...  ...                                                ...\n",
              "55920  T1-weighted post-contrast  ...  gs://idc-open/909ea8b8-4b49-4a41-bac2-e9543bfa...\n",
              "55921          T2-weighted image  ...  gs://idc-open/87d4ae5c-90b2-44fd-9ac8-afbec5c5...\n",
              "55922  T1-weighted post-contrast  ...  gs://idc-open/6caab1d3-0ae3-458c-8bb2-5ad76d14...\n",
              "55923   T1-weighted pre-contrast  ...  gs://idc-open/ab59234c-909d-4e01-b271-85bb428a...\n",
              "55924    T2-weighted image flair  ...  gs://idc-open/d2c7e4c0-2122-4062-9e1d-f9990233...\n",
              "\n",
              "[55925 rows x 4 columns]"
            ]
          },
          "metadata": {
            "tags": []
          },
          "execution_count": 5
        }
      ]
    },
    {
      "cell_type": "code",
      "metadata": {
        "colab": {
          "base_uri": "https://localhost:8080/"
        },
        "id": "ujBkW_Ld6eLF",
        "outputId": "ed8efa5c-2f36-4f71-93c2-5da3a13e9571"
      },
      "source": [
        "cohort_df['PV_MRI_assay'].value_counts(dropna=False)"
      ],
      "execution_count": null,
      "outputs": [
        {
          "output_type": "execute_result",
          "data": {
            "text/plain": [
              "T1-weighted post-contrast    20633\n",
              "T2-weighted image            12952\n",
              "T1-weighted pre-contrast     11807\n",
              "T2-weighted image flair      10533\n",
              "Name: PV_MRI_assay, dtype: int64"
            ]
          },
          "metadata": {
            "tags": []
          },
          "execution_count": 6
        }
      ]
    },
    {
      "cell_type": "markdown",
      "metadata": {
        "id": "zoHWjxvksfVP"
      },
      "source": [
        "Now select a sample of some size.\n",
        "\n",
        "Here we set 10000 slices for each of the target classes. For testing or illustration smaller samples should be sufficient."
      ]
    },
    {
      "cell_type": "code",
      "metadata": {
        "colab": {
          "base_uri": "https://localhost:8080/"
        },
        "id": "6pHTQ1PJ9Any",
        "outputId": "5b818db4-399d-48fa-d021-f9e2081b6be3"
      },
      "source": [
        "sample_df = cohort_df.groupby('PV_MRI_assay').sample(n=10000, random_state=1)\n",
        "sample_df['PV_MRI_assay'].value_counts(dropna=False)"
      ],
      "execution_count": null,
      "outputs": [
        {
          "output_type": "execute_result",
          "data": {
            "text/plain": [
              "T1-weighted post-contrast    10000\n",
              "T2-weighted image            10000\n",
              "T2-weighted image flair      10000\n",
              "T1-weighted pre-contrast     10000\n",
              "Name: PV_MRI_assay, dtype: int64"
            ]
          },
          "metadata": {
            "tags": []
          },
          "execution_count": 7
        }
      ]
    },
    {
      "cell_type": "code",
      "metadata": {
        "colab": {
          "base_uri": "https://localhost:8080/",
          "height": 589
        },
        "id": "CUB4mHnCJ6mq",
        "outputId": "61420007-f797-4c3d-fb27-724713c674a5"
      },
      "source": [
        "sample_df"
      ],
      "execution_count": null,
      "outputs": [
        {
          "output_type": "execute_result",
          "data": {
            "text/html": [
              "<div>\n",
              "<style scoped>\n",
              "    .dataframe tbody tr th:only-of-type {\n",
              "        vertical-align: middle;\n",
              "    }\n",
              "\n",
              "    .dataframe tbody tr th {\n",
              "        vertical-align: top;\n",
              "    }\n",
              "\n",
              "    .dataframe thead th {\n",
              "        text-align: right;\n",
              "    }\n",
              "</style>\n",
              "<table border=\"1\" class=\"dataframe\">\n",
              "  <thead>\n",
              "    <tr style=\"text-align: right;\">\n",
              "      <th></th>\n",
              "      <th>PV_MRI_assay</th>\n",
              "      <th>study_id</th>\n",
              "      <th>series_id</th>\n",
              "      <th>gcs_url</th>\n",
              "    </tr>\n",
              "  </thead>\n",
              "  <tbody>\n",
              "    <tr>\n",
              "      <th>22393</th>\n",
              "      <td>T1-weighted post-contrast</td>\n",
              "      <td>1.3.6.1.4.1.14519.5.2.1.7695.4001.569320506186...</td>\n",
              "      <td>1.3.6.1.4.1.14519.5.2.1.7695.4001.149026159959...</td>\n",
              "      <td>gs://idc-open/5f5b0bb1-f2bc-4cc2-91e0-547bc2e4...</td>\n",
              "    </tr>\n",
              "    <tr>\n",
              "      <th>27223</th>\n",
              "      <td>T1-weighted post-contrast</td>\n",
              "      <td>1.3.6.1.4.1.14519.5.2.1.2531.4003.666089736017...</td>\n",
              "      <td>1.3.6.1.4.1.14519.5.2.1.2531.4003.261424643169...</td>\n",
              "      <td>gs://idc-open/1d2c9f3f-865d-49b1-8e7b-55d055a8...</td>\n",
              "    </tr>\n",
              "    <tr>\n",
              "      <th>34112</th>\n",
              "      <td>T1-weighted post-contrast</td>\n",
              "      <td>1.3.6.1.4.1.14519.5.2.1.2531.4003.666089736017...</td>\n",
              "      <td>1.3.6.1.4.1.14519.5.2.1.2531.4003.261424643169...</td>\n",
              "      <td>gs://idc-open/1d4c1c72-fa74-4344-998e-159b953c...</td>\n",
              "    </tr>\n",
              "    <tr>\n",
              "      <th>213</th>\n",
              "      <td>T1-weighted post-contrast</td>\n",
              "      <td>1.3.6.1.4.1.14519.5.2.1.7695.4001.155576204150...</td>\n",
              "      <td>1.3.6.1.4.1.14519.5.2.1.7695.4001.332152476495...</td>\n",
              "      <td>gs://idc-open/7566f7fe-1fa6-4f75-9cc7-50212f93...</td>\n",
              "    </tr>\n",
              "    <tr>\n",
              "      <th>50080</th>\n",
              "      <td>T1-weighted post-contrast</td>\n",
              "      <td>1.3.6.1.4.1.14519.5.2.1.4591.4001.145527987060...</td>\n",
              "      <td>1.3.6.1.4.1.14519.5.2.1.4591.4001.125672926847...</td>\n",
              "      <td>gs://idc-open/862e33bf-0e35-46f1-875b-7b957dae...</td>\n",
              "    </tr>\n",
              "    <tr>\n",
              "      <th>...</th>\n",
              "      <td>...</td>\n",
              "      <td>...</td>\n",
              "      <td>...</td>\n",
              "      <td>...</td>\n",
              "    </tr>\n",
              "    <tr>\n",
              "      <th>2499</th>\n",
              "      <td>T2-weighted image flair</td>\n",
              "      <td>1.3.6.1.4.1.14519.5.2.1.8862.4001.322746683938...</td>\n",
              "      <td>1.3.6.1.4.1.14519.5.2.1.8862.4001.239852680542...</td>\n",
              "      <td>gs://idc-open/ecc9dd94-5ecf-42b0-a4e0-f9a6c506...</td>\n",
              "    </tr>\n",
              "    <tr>\n",
              "      <th>25820</th>\n",
              "      <td>T2-weighted image flair</td>\n",
              "      <td>1.3.6.1.4.1.14519.5.2.1.3775.4001.338505699209...</td>\n",
              "      <td>1.3.6.1.4.1.14519.5.2.1.3775.4001.242527138671...</td>\n",
              "      <td>gs://idc-open/77166447-8cff-4e11-b5a0-edaa01f2...</td>\n",
              "    </tr>\n",
              "    <tr>\n",
              "      <th>21777</th>\n",
              "      <td>T2-weighted image flair</td>\n",
              "      <td>1.3.6.1.4.1.14519.5.2.1.4591.4001.176500029848...</td>\n",
              "      <td>1.3.6.1.4.1.14519.5.2.1.4591.4001.491441365887...</td>\n",
              "      <td>gs://idc-open/495b7186-8f3b-4a86-a97b-5cce85a4...</td>\n",
              "    </tr>\n",
              "    <tr>\n",
              "      <th>21763</th>\n",
              "      <td>T2-weighted image flair</td>\n",
              "      <td>1.3.6.1.4.1.14519.5.2.1.4591.4003.122287415106...</td>\n",
              "      <td>1.3.6.1.4.1.14519.5.2.1.4591.4003.238576995972...</td>\n",
              "      <td>gs://idc-open/aeed2fa1-bfdc-43a9-a8e4-9bc2d2e6...</td>\n",
              "    </tr>\n",
              "    <tr>\n",
              "      <th>35880</th>\n",
              "      <td>T2-weighted image flair</td>\n",
              "      <td>1.3.6.1.4.1.14519.5.2.1.2783.4001.123124691157...</td>\n",
              "      <td>1.3.6.1.4.1.14519.5.2.1.2783.4001.477389024768...</td>\n",
              "      <td>gs://idc-open/6703fc40-252d-4766-bad1-88e76baa...</td>\n",
              "    </tr>\n",
              "  </tbody>\n",
              "</table>\n",
              "<p>40000 rows × 4 columns</p>\n",
              "</div>"
            ],
            "text/plain": [
              "                    PV_MRI_assay  ...                                            gcs_url\n",
              "22393  T1-weighted post-contrast  ...  gs://idc-open/5f5b0bb1-f2bc-4cc2-91e0-547bc2e4...\n",
              "27223  T1-weighted post-contrast  ...  gs://idc-open/1d2c9f3f-865d-49b1-8e7b-55d055a8...\n",
              "34112  T1-weighted post-contrast  ...  gs://idc-open/1d4c1c72-fa74-4344-998e-159b953c...\n",
              "213    T1-weighted post-contrast  ...  gs://idc-open/7566f7fe-1fa6-4f75-9cc7-50212f93...\n",
              "50080  T1-weighted post-contrast  ...  gs://idc-open/862e33bf-0e35-46f1-875b-7b957dae...\n",
              "...                          ...  ...                                                ...\n",
              "2499     T2-weighted image flair  ...  gs://idc-open/ecc9dd94-5ecf-42b0-a4e0-f9a6c506...\n",
              "25820    T2-weighted image flair  ...  gs://idc-open/77166447-8cff-4e11-b5a0-edaa01f2...\n",
              "21777    T2-weighted image flair  ...  gs://idc-open/495b7186-8f3b-4a86-a97b-5cce85a4...\n",
              "21763    T2-weighted image flair  ...  gs://idc-open/aeed2fa1-bfdc-43a9-a8e4-9bc2d2e6...\n",
              "35880    T2-weighted image flair  ...  gs://idc-open/6703fc40-252d-4766-bad1-88e76baa...\n",
              "\n",
              "[40000 rows x 4 columns]"
            ]
          },
          "metadata": {
            "tags": []
          },
          "execution_count": 8
        }
      ]
    },
    {
      "cell_type": "markdown",
      "metadata": {
        "id": "_jbvt2cOWJ0r"
      },
      "source": [
        "Save the sample dataframe to GCS to be used later."
      ]
    },
    {
      "cell_type": "code",
      "metadata": {
        "colab": {
          "base_uri": "https://localhost:8080/"
        },
        "id": "iEmRWzBSrU8P",
        "outputId": "9de50358-4175-4db4-b63f-f5493fc41e5d"
      },
      "source": [
        "sample_df.to_csv('/tmp/sample.csv', sep='\\t')\n",
        "!gsutil -u $myProjectID cp /tmp/sample.csv gs://$bucket_name/"
      ],
      "execution_count": null,
      "outputs": [
        {
          "output_type": "stream",
          "text": [
            "Copying file:///tmp/sample.csv [Content-Type=text/csv]...\n",
            "/ [1 files][  8.2 MiB/  8.2 MiB]                                                \n",
            "Operation completed over 1 objects/8.2 MiB.                                      \n"
          ],
          "name": "stdout"
        }
      ]
    },
    {
      "cell_type": "markdown",
      "metadata": {
        "id": "57y0xalFK-Je"
      },
      "source": [
        "---"
      ]
    }
  ]
}